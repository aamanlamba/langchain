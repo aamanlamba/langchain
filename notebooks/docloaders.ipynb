{
 "cells": [
  {
   "cell_type": "markdown",
   "id": "30bafa3c",
   "metadata": {},
   "source": [
    "# [Langchain Document loaders](https://python.langchain.com/docs/integrations/document_loaders/)"
   ]
  },
  {
   "cell_type": "code",
   "execution_count": null,
   "id": "186e7ce0",
   "metadata": {},
   "outputs": [],
   "source": [
    "#! source ./.venv/bin/activate"
   ]
  },
  {
   "cell_type": "code",
   "execution_count": null,
   "id": "f72af00c",
   "metadata": {},
   "outputs": [],
   "source": [
    "#! uv pip install -r requirements.txt"
   ]
  },
  {
   "cell_type": "code",
   "execution_count": 1,
   "id": "ee35b7ea",
   "metadata": {},
   "outputs": [
    {
     "name": "stdout",
     "output_type": "stream",
     "text": [
      "Number of documents: 1\n",
      "First document content: Oriental Stories was an American pulp magazine published by Popular Fiction and edited by Farnsworth Wright. It was launched in 1930 as a companion to Popular Fiction's Weird Tales, and carried stories with Far Eastern settings, including some fantasy. Contributors included Robert E. Howard, Frank Owen, and E. Hoffmann Price. In 1932 publication was paused; it was relaunched in 1933 under the title The Magic Carpet Magazine, with an expanded editorial policy that now included any story set in an exotic location, including other planets. Some science fiction began to appear alongside the fantasy and adventure material as a result, including work by Edmond Hamilton. Wright obtained stories from H. Bedford Jones, who was a popular pulp writer, and Seabury Quinn. Most of the covers of The Magic Carpet Magazine were by Margaret Brundage. Competition from established pulps in the same niche was too strong, and after five issues under the new title the magazine ceased publication\n"
     ]
    }
   ],
   "source": [
    "## text loader\n",
    "from langchain_community.document_loaders import TextLoader\n",
    "loader = TextLoader(\"../data/input.txt\")\n",
    "documents = loader.load()\n",
    "print(f\"Number of documents: {len(documents)}\")\n",
    "print(f\"First document content: {documents[0].page_content}\")"
   ]
  },
  {
   "cell_type": "code",
   "execution_count": null,
   "id": "010f3e41",
   "metadata": {},
   "outputs": [],
   "source": [
    "## pdf loader\n",
    "from langchain.document_loaders import PyPDFLoader\n",
    "pdf_loader = PyPDFLoader(\"../data/attention.pdf\")\n",
    "pdf_documents = pdf_loader.load()\n",
    "print(f\"Number of PDF documents: {len(pdf_documents)}\")\n",
    "print(f\"First PDF document content: {pdf_documents[0].page_content}\")   "
   ]
  }
 ],
 "metadata": {
  "kernelspec": {
   "display_name": "langchain",
   "language": "python",
   "name": "python3"
  },
  "language_info": {
   "codemirror_mode": {
    "name": "ipython",
    "version": 3
   },
   "file_extension": ".py",
   "mimetype": "text/x-python",
   "name": "python",
   "nbconvert_exporter": "python",
   "pygments_lexer": "ipython3",
   "version": "3.12.11"
  }
 },
 "nbformat": 4,
 "nbformat_minor": 5
}
